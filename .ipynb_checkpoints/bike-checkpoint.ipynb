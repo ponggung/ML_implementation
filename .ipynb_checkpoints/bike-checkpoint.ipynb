{
 "cells": [
  {
   "cell_type": "code",
   "execution_count": 5,
   "metadata": {},
   "outputs": [],
   "source": [
    "from sklearn.ensemble import RandomForestRegressor\n",
    "from datetime import datetime\n",
    "import pandas as pd\n",
    "import numpy as np\n",
    "import matplotlib.pyplot as plt\n",
    "import seaborn as sns\n",
    "import calendar\n",
    "pd.options.mode.chained_assignment = None"
   ]
  },
  {
   "cell_type": "markdown",
   "metadata": {},
   "source": [
    "移除三倍標準差\n",
    "Feature Engineering"
   ]
  },
  {
   "cell_type": "markdown",
   "metadata": {},
   "source": [
    "### Data Fields\n",
    "- datetime - hourly date + timestamp  \n",
    "- season -  1 = spring, 2 = summer, 3 = fall, 4 = winter \n",
    "- holiday - whether the day is considered a holiday\n",
    "- workingday - whether the day is neither a weekend nor holiday\n",
    "- weather - 1: Clear, Few clouds, Partly cloudy, Partly cloudy \n",
    "- 2: Mist + Cloudy, Mist + Broken clouds, Mist + Few clouds, Mist \n",
    "- 3: Light Snow, Light Rain + Thunderstorm + Scattered clouds, Light Rain + Scattered clouds \n",
    "- 4: Heavy Rain + Ice Pallets + Thunderstorm + Mist, Snow + Fog \n",
    "- temp - temperature in Celsius\n",
    "- atemp - \"feels like\" temperature in Celsius\n",
    "- humidity - relative humidity\n",
    "- windspeed - wind speed\n",
    "- casual - number of non-registered user rentals initiated\n",
    "- registered - number of registered user rentals initiated\n",
    "- count - number of total rentals"
   ]
  },
  {
   "cell_type": "code",
   "execution_count": 42,
   "metadata": {},
   "outputs": [],
   "source": [
    "dir=\"/Users/PK/.kaggle/competitions/bike-sharing-demand/\"\n",
    "train = pd.read_csv(dir + 'train.csv')\n",
    "test = pd.read_csv(dir + 'test.csv')\n",
    "submit = pd.read_csv(dir +'sampleSubmission.csv')"
   ]
  },
  {
   "cell_type": "code",
   "execution_count": null,
   "metadata": {},
   "outputs": [],
   "source": [
    "# train.info()\n",
    "# test.info()\n",
    "print(len(train),len(test))"
   ]
  },
  {
   "cell_type": "code",
   "execution_count": null,
   "metadata": {},
   "outputs": [],
   "source": [
    "data = train.append(test)\n",
    "data.reset_index(inplace=True)\n",
    "data.drop('index',inplace=True,axis=1)"
   ]
  },
  {
   "cell_type": "code",
   "execution_count": null,
   "metadata": {},
   "outputs": [],
   "source": [
    "data[\"date\"] = data.datetime.apply(lambda x : x.split()[0])\n",
    "data[\"hour\"] = data.datetime.apply(lambda x : x.split()[1].split(\":\")[0]).astype(\"int\")\n",
    "data[\"year\"] = data.datetime.apply(lambda x : x.split()[0].split(\"-\")[0])\n",
    "data[\"weekday\"] = data.date.apply(lambda dateString : datetime.strptime(dateString,\"%Y-%m-%d\").weekday())\n",
    "data[\"month\"] = data.date.apply(lambda dateString : datetime.strptime(dateString,\"%Y-%m-%d\").month)"
   ]
  },
  {
   "cell_type": "code",
   "execution_count": 41,
   "metadata": {},
   "outputs": [
    {
     "data": {
      "text/plain": [
       "0        2011-01-01 00:00:00\n",
       "1        2011-01-01 01:00:00\n",
       "2        2011-01-01 02:00:00\n",
       "3        2011-01-01 03:00:00\n",
       "4        2011-01-01 04:00:00\n",
       "5        2011-01-01 05:00:00\n",
       "6        2011-01-01 06:00:00\n",
       "7        2011-01-01 07:00:00\n",
       "8        2011-01-01 08:00:00\n",
       "9        2011-01-01 09:00:00\n",
       "10       2011-01-01 10:00:00\n",
       "11       2011-01-01 11:00:00\n",
       "12       2011-01-01 12:00:00\n",
       "13       2011-01-01 13:00:00\n",
       "14       2011-01-01 14:00:00\n",
       "15       2011-01-01 15:00:00\n",
       "16       2011-01-01 16:00:00\n",
       "17       2011-01-01 17:00:00\n",
       "18       2011-01-01 18:00:00\n",
       "19       2011-01-01 19:00:00\n",
       "20       2011-01-01 20:00:00\n",
       "21       2011-01-01 21:00:00\n",
       "22       2011-01-01 22:00:00\n",
       "23       2011-01-01 23:00:00\n",
       "24       2011-01-02 00:00:00\n",
       "25       2011-01-02 01:00:00\n",
       "26       2011-01-02 02:00:00\n",
       "27       2011-01-02 03:00:00\n",
       "28       2011-01-02 04:00:00\n",
       "29       2011-01-02 06:00:00\n",
       "                ...         \n",
       "10856    2012-12-18 18:00:00\n",
       "10857    2012-12-18 19:00:00\n",
       "10858    2012-12-18 20:00:00\n",
       "10859    2012-12-18 21:00:00\n",
       "10860    2012-12-18 22:00:00\n",
       "10861    2012-12-18 23:00:00\n",
       "10862    2012-12-19 00:00:00\n",
       "10863    2012-12-19 01:00:00\n",
       "10864    2012-12-19 02:00:00\n",
       "10865    2012-12-19 03:00:00\n",
       "10866    2012-12-19 04:00:00\n",
       "10867    2012-12-19 05:00:00\n",
       "10868    2012-12-19 06:00:00\n",
       "10869    2012-12-19 07:00:00\n",
       "10870    2012-12-19 08:00:00\n",
       "10871    2012-12-19 09:00:00\n",
       "10872    2012-12-19 10:00:00\n",
       "10873    2012-12-19 11:00:00\n",
       "10874    2012-12-19 12:00:00\n",
       "10875    2012-12-19 13:00:00\n",
       "10876    2012-12-19 14:00:00\n",
       "10877    2012-12-19 15:00:00\n",
       "10878    2012-12-19 16:00:00\n",
       "10879    2012-12-19 17:00:00\n",
       "10880    2012-12-19 18:00:00\n",
       "10881    2012-12-19 19:00:00\n",
       "10882    2012-12-19 20:00:00\n",
       "10883    2012-12-19 21:00:00\n",
       "10884    2012-12-19 22:00:00\n",
       "10885    2012-12-19 23:00:00\n",
       "Name: datetime, Length: 10886, dtype: object"
      ]
     },
     "execution_count": 41,
     "metadata": {},
     "output_type": "execute_result"
    }
   ],
   "source": [
    "dt = train[\"datetime\"]\n",
    "dt"
   ]
  }
 ],
 "metadata": {
  "kernelspec": {
   "display_name": "Python 3",
   "language": "python",
   "name": "python3"
  },
  "language_info": {
   "codemirror_mode": {
    "name": "ipython",
    "version": 3
   },
   "file_extension": ".py",
   "mimetype": "text/x-python",
   "name": "python",
   "nbconvert_exporter": "python",
   "pygments_lexer": "ipython3",
   "version": "3.6.4"
  }
 },
 "nbformat": 4,
 "nbformat_minor": 2
}
