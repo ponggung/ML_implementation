{
 "cells": [
  {
   "cell_type": "markdown",
   "metadata": {},
   "source": [
    "# 表情辨識 Image Sentiment Classification\n",
    "## DNN model"
   ]
  },
  {
   "cell_type": "code",
   "execution_count": 1,
   "metadata": {},
   "outputs": [
    {
     "name": "stderr",
     "output_type": "stream",
     "text": [
      "/anaconda3/lib/python3.6/site-packages/h5py/__init__.py:36: FutureWarning: Conversion of the second argument of issubdtype from `float` to `np.floating` is deprecated. In future, it will be treated as `np.float64 == np.dtype(float).type`.\n",
      "  from ._conv import register_converters as _register_converters\n",
      "Using TensorFlow backend.\n"
     ]
    }
   ],
   "source": [
    "# coding: utf-8\n",
    "# libraries & packages\n",
    "import pandas as pd\n",
    "import numpy as np\n",
    "import matplotlib.pyplot as plt\n",
    "import math\n",
    "from random import randint\n",
    "\n",
    "import sys\n",
    "\n",
    "from keras.models import Sequential\n",
    "from keras.models import load_model\n",
    "from keras.layers import Dense, Dropout, Activation, Flatten\n",
    "from keras.layers import Convolution2D, MaxPooling2D\n",
    "from keras.optimizers import SGD, Adam\n",
    "from keras.utils import np_utils\n",
    "from sklearn.utils import shuffle"
   ]
  },
  {
   "cell_type": "code",
   "execution_count": 2,
   "metadata": {},
   "outputs": [
    {
     "name": "stdout",
     "output_type": "stream",
     "text": [
      "   label                                            feature\n",
      "0      0  70 80 82 72 58 58 60 63 54 58 60 48 89 115 121...\n",
      "1      0  151 150 147 155 148 133 111 140 170 174 182 15...\n",
      "2      2  231 212 156 164 174 138 161 173 182 200 106 38...\n",
      "3      4  24 32 36 30 32 23 19 20 30 41 21 22 32 34 21 1...\n",
      "4      6  4 0 0 0 0 0 0 0 0 0 0 0 3 15 23 28 48 50 58 84...\n",
      "(28709,) (28709,) (7178,)\n"
     ]
    }
   ],
   "source": [
    "# load data\n",
    "def load_data(train_data_path, test_data_path):\n",
    "    train = pd.read_csv(train_data_path, sep=',', header=0)\n",
    "    test = pd.read_csv(test_data_path, sep=',', header=0)\n",
    "    return (train, test)\n",
    "\n",
    "data_path = '/Users/PK/.kaggle/competitions/ml-2017fall-hw3/'\n",
    "train, test = load_data(data_path + \"train.csv\", data_path + \"test.csv\")\n",
    "X_train_raw =train[\"feature\"]\n",
    "Y_train_raw =train[\"label\"]\n",
    "X_test_raw =test[\"feature\"]\n",
    "print(train.head())\n",
    "print(X_train_raw.shape, Y_train_raw.shape, X_test_raw.shape)"
   ]
  },
  {
   "cell_type": "code",
   "execution_count": 3,
   "metadata": {},
   "outputs": [
    {
     "name": "stdout",
     "output_type": "stream",
     "text": [
      "(28709, 2304) (7178, 2304) (28709, 7)\n"
     ]
    }
   ],
   "source": [
    "# Reshape\n",
    "classes = 7\n",
    "def _sep(x):\n",
    "    x = x.split(\" \")\n",
    "    x = np.array(x).astype(\"float32\")\n",
    "    return x\n",
    "\n",
    "def sep_reshape(raw_data):\n",
    "    data = raw_data.apply(_sep)\n",
    "#     data2 = np.stack(data).reshape((len(data),1,48,48))\n",
    "    data2 = np.stack(data)\n",
    "    return data2\n",
    "\n",
    "X_train = sep_reshape(X_train_raw)\n",
    "X_test = sep_reshape(X_test_raw)\n",
    "\n",
    "# normalize inputs from 0-255 to 0.0-1.0X_train /= 255.0\n",
    "X_train /= 255.0\n",
    "X_test /= 255.0\n",
    "\n",
    "# 1-of-N encoding\n",
    "Y_train = np_utils.to_categorical(np.array(Y_train_raw), classes)\n",
    "\n",
    "\n",
    "print(X_train.shape, X_test.shape,Y_train.shape)"
   ]
  },
  {
   "cell_type": "code",
   "execution_count": 4,
   "metadata": {},
   "outputs": [
    {
     "data": {
      "text/plain": [
       "array([0.27450982, 0.3137255 , 0.32156864, ..., 0.41568628, 0.42745098,\n",
       "       0.32156864], dtype=float32)"
      ]
     },
     "execution_count": 4,
     "metadata": {},
     "output_type": "execute_result"
    }
   ],
   "source": [
    "X_train[0]"
   ]
  },
  {
   "cell_type": "code",
   "execution_count": 8,
   "metadata": {},
   "outputs": [
    {
     "name": "stdout",
     "output_type": "stream",
     "text": [
      "_________________________________________________________________\n",
      "Layer (type)                 Output Shape              Param #   \n",
      "=================================================================\n",
      "dense_1 (Dense)              (None, 400)               922000    \n",
      "_________________________________________________________________\n",
      "activation_1 (Activation)    (None, 400)               0         \n",
      "_________________________________________________________________\n",
      "dense_2 (Dense)              (None, 256)               102656    \n",
      "_________________________________________________________________\n",
      "activation_2 (Activation)    (None, 256)               0         \n",
      "_________________________________________________________________\n",
      "dense_3 (Dense)              (None, 256)               65792     \n",
      "_________________________________________________________________\n",
      "activation_3 (Activation)    (None, 256)               0         \n",
      "_________________________________________________________________\n",
      "dense_4 (Dense)              (None, 256)               65792     \n",
      "_________________________________________________________________\n",
      "activation_4 (Activation)    (None, 256)               0         \n",
      "_________________________________________________________________\n",
      "dense_5 (Dense)              (None, 7)                 1799      \n",
      "_________________________________________________________________\n",
      "activation_5 (Activation)    (None, 7)                 0         \n",
      "=================================================================\n",
      "Total params: 1,158,039\n",
      "Trainable params: 1,158,039\n",
      "Non-trainable params: 0\n",
      "_________________________________________________________________\n",
      "Train on 28220 samples, validate on 489 samples\n",
      "Epoch 1/20\n",
      "28220/28220 [==============================] - 10s - loss: 1.7950 - acc: 0.2587 - val_loss: 1.7751 - val_acc: 0.2658\n",
      "Epoch 2/20\n",
      "28220/28220 [==============================] - 9s - loss: 1.6933 - acc: 0.3259 - val_loss: 1.7007 - val_acc: 0.3313\n",
      "Epoch 3/20\n",
      "28220/28220 [==============================] - 8s - loss: 1.6615 - acc: 0.3439 - val_loss: 1.7061 - val_acc: 0.3006\n",
      "Epoch 4/20\n",
      "28220/28220 [==============================] - 8s - loss: 1.6415 - acc: 0.3556 - val_loss: 1.6658 - val_acc: 0.3333\n",
      "Epoch 5/20\n",
      "28220/28220 [==============================] - 8s - loss: 1.6210 - acc: 0.3634 - val_loss: 1.7252 - val_acc: 0.3272\n",
      "Epoch 6/20\n",
      "28220/28220 [==============================] - 8s - loss: 1.6030 - acc: 0.3723 - val_loss: 1.6230 - val_acc: 0.3476\n",
      "Epoch 7/20\n",
      "28220/28220 [==============================] - 8s - loss: 1.5871 - acc: 0.3764 - val_loss: 1.6182 - val_acc: 0.3640\n",
      "Epoch 8/20\n",
      "28220/28220 [==============================] - 8s - loss: 1.5671 - acc: 0.3880 - val_loss: 1.6215 - val_acc: 0.3824\n",
      "Epoch 9/20\n",
      "28220/28220 [==============================] - 8s - loss: 1.5604 - acc: 0.3866 - val_loss: 1.6325 - val_acc: 0.3579\n",
      "Epoch 10/20\n",
      "28220/28220 [==============================] - 8s - loss: 1.5427 - acc: 0.3962 - val_loss: 1.5857 - val_acc: 0.3640\n",
      "Epoch 11/20\n",
      "28220/28220 [==============================] - 8s - loss: 1.5307 - acc: 0.3991 - val_loss: 1.5897 - val_acc: 0.3885\n",
      "Epoch 12/20\n",
      "28220/28220 [==============================] - 8s - loss: 1.5186 - acc: 0.4090 - val_loss: 1.6556 - val_acc: 0.3456\n",
      "Epoch 13/20\n",
      "28220/28220 [==============================] - 8s - loss: 1.5058 - acc: 0.4136 - val_loss: 1.5972 - val_acc: 0.3620\n",
      "Epoch 14/20\n",
      "28220/28220 [==============================] - 8s - loss: 1.4793 - acc: 0.4258 - val_loss: 1.6060 - val_acc: 0.3620\n",
      "Epoch 15/20\n",
      "28220/28220 [==============================] - 8s - loss: 1.4672 - acc: 0.4281 - val_loss: 1.5977 - val_acc: 0.4008\n",
      "Epoch 16/20\n",
      "28220/28220 [==============================] - 8s - loss: 1.4503 - acc: 0.4365 - val_loss: 1.5993 - val_acc: 0.3456\n",
      "Epoch 17/20\n",
      "28220/28220 [==============================] - 8s - loss: 1.4417 - acc: 0.4398 - val_loss: 1.5792 - val_acc: 0.3865\n",
      "Epoch 18/20\n",
      "28220/28220 [==============================] - 8s - loss: 1.4212 - acc: 0.4465 - val_loss: 1.5726 - val_acc: 0.3865\n",
      "Epoch 19/20\n",
      "28220/28220 [==============================] - 8s - loss: 1.4099 - acc: 0.4527 - val_loss: 1.5440 - val_acc: 0.3906\n",
      "Epoch 20/20\n",
      "28220/28220 [==============================] - 7s - loss: 1.3843 - acc: 0.4640 - val_loss: 1.5971 - val_acc: 0.4049\n"
     ]
    }
   ],
   "source": [
    "'''Build a dnn model'''\n",
    "# CNN use Total params: 1,031,153\n",
    "model_adam = Sequential()\n",
    "model_adam.add(Dense(400, input_dim=48*48))\n",
    "model_adam.add(Activation('softplus'))\n",
    "model_adam.add(Dense(256))\n",
    "model_adam.add(Activation('softplus'))\n",
    "model_adam.add(Dense(256))\n",
    "model_adam.add(Activation('softplus'))\n",
    "model_adam.add(Dense(256))\n",
    "model_adam.add(Activation('softplus'))\n",
    "model_adam.add(Dense(7))\n",
    "model_adam.add(Activation('softmax'))\n",
    "\n",
    "''' Setting optimizer as Adam '''\n",
    "from keras.optimizers import Adam\n",
    "model_adam.compile(loss= 'categorical_crossentropy',\n",
    "                  optimizer='Adam',\n",
    "                  metrics=['accuracy'])\n",
    "# # check parameters of every layers\n",
    "model_adam.summary()\n",
    "\n",
    "''' training'''\n",
    "batch_size = 100\n",
    "epoch = 20\n",
    "v_s =0.017\n",
    "# validation data comes from training data\n",
    "fit = model_adam.fit(X_train, Y_train, batch_size=batch_size,\n",
    "      epochs=epoch, validation_split=v_s, shuffle=True)"
   ]
  },
  {
   "cell_type": "code",
   "execution_count": 10,
   "metadata": {},
   "outputs": [
    {
     "data": {
      "image/png": "[encoded data removed]",
      "text/plain": [
       "<matplotlib.figure.Figure at 0x1a37b71550>"
      ]
     },
     "metadata": {},
     "output_type": "display_data"
    }
   ],
   "source": [
    "# 驗證\n",
    "def plot_acc_loss(history):\n",
    "#     plt.clf()\n",
    "    fig = plt.figure()\n",
    "    fig.set_figwidth(10)\n",
    "    plt.subplot(1,2,1)\n",
    "    plt.xlabel('Epoch')\n",
    "    plt.ylabel('loss')\n",
    "    plt.title('Training data') \n",
    "    plt.plot(history.history['loss']) \n",
    "    plt.plot(history.history['val_loss']) \n",
    "    plt.legend(['training','validation'],loc='lower right') \n",
    "    \n",
    "    plt.subplot(1,2,2)\n",
    "    plt.xlabel('Epoch')\n",
    "    plt.ylabel('Accuracy')\n",
    "    plt.title('Training data') \n",
    "    plt.plot(history.history['acc']) \n",
    "    plt.plot(history.history['val_acc']) \n",
    "    plt.legend(['training','validation'],loc='lower right') \n",
    "    plt.show()\n",
    "plot_acc_loss(fit)"
   ]
  },
  {
   "cell_type": "code",
   "execution_count": null,
   "metadata": {},
   "outputs": [],
   "source": []
  }
 ],
 "metadata": {
  "kernelspec": {
   "display_name": "Python 3",
   "language": "python",
   "name": "python3"
  },
  "language_info": {
   "codemirror_mode": {
    "name": "ipython",
    "version": 3
   },
   "file_extension": ".py",
   "mimetype": "text/x-python",
   "name": "python",
   "nbconvert_exporter": "python",
   "pygments_lexer": "ipython3",
   "version": "3.6.4"
  }
 },
 "nbformat": 4,
 "nbformat_minor": 2
}
